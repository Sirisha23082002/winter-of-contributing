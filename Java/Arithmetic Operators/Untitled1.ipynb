{
  "nbformat": 4,
  "nbformat_minor": 0,
  "metadata": {
    "colab": {
      "name": "Untitled1.ipynb",
      "provenance": [],
      "collapsed_sections": []
    },
    "kernelspec": {
      "name": "python3",
      "display_name": "Python 3"
    },
    "language_info": {
      "name": "python"
    }
  },
  "cells": [
    {
      "cell_type": "code",
      "metadata": {
        "id": "Xq8I_hEHqJJX"
      },
      "source": [
        "### Arithmetic Operators\n"
      ],
      "execution_count": null,
      "outputs": []
    }
  ]
}